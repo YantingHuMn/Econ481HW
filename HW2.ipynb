{
 "cells": [
  {
   "cell_type": "code",
   "execution_count": 1,
   "id": "41f1db48-6a31-4397-bfbd-353d2c64a029",
   "metadata": {},
   "outputs": [],
   "source": [
    "# Exercise 0\n",
    "def github() -> str:\n",
    "    \"\"\"\n",
    "    This is my HW1 (the link to github)\n",
    "    \"\"\"\n",
    "\n",
    "    return \"https://github.com/YantingHuMn/Econ481HW/blob/main/HW2.ipynb\""
   ]
  },
  {
   "cell_type": "code",
   "execution_count": 22,
   "id": "f2a0c594-6236-44d9-be93-1a007f116e92",
   "metadata": {},
   "outputs": [],
   "source": [
    "# Exercise 1\n",
    "import numpy as np\n",
    "\n",
    "def simulate_data(seed: int) -> tuple:\n",
    "    \"\"\"\n",
    "    This function is to return 1000 simulated observations for a linear regression model\n",
    "    \n",
    "    Parameters: \n",
    "    seed (int): the seed set to this function\n",
    "\n",
    "    Result:\n",
    "    Return a tuple of two elements, (y, X), where y is a 1000x1 np.array and X is a 1000x3 np.array.\n",
    "    \"\"\"\n",
    "    np.random.seed(seed) \n",
    "    X = np.random.normal(loc = 0, scale=2, size=(1000, 3))\n",
    "    epsilon = np.random.normal(loc = 0, scale = 1, size = 1000)\n",
    "    y = 5 + 3*X[:,0] + 2*X[:,1] + 6*X[:,2] + epsilon\n",
    "\n",
    "    return y.reshape(-1, 1), X\n",
    "y, X = simulate_data(481)\n",
    "#print(y, X)\n",
    "#print(simulate_data(481))"
   ]
  },
  {
   "cell_type": "code",
   "execution_count": 48,
   "id": "acbbe829-17e0-4d17-a421-221f5103af05",
   "metadata": {},
   "outputs": [
    {
     "name": "stdout",
     "output_type": "stream",
     "text": [
      "[[ 5.17085185e+00]\n",
      " [-2.46956509e-06]\n",
      " [-3.07825336e-06]\n",
      " [-1.20753495e-06]]\n"
     ]
    }
   ],
   "source": [
    "# Exercise 2\n",
    "\n",
    "import numpy as np\n",
    "import scipy as sp\n",
    "\n",
    "def estimate_mle(y: np.array, X: np.array) -> np.array:\n",
    "    \"\"\"\n",
    "    This function is to calcualte the maximum likelihood estimator for all the \n",
    "    coefficients in the regression model\n",
    "\n",
    "    Parameters:\n",
    "    y (array): Response variables\n",
    "    x (array): Predictors\n",
    "\n",
    "    Result: \n",
    "    Return a 4 by 1 array with coefficients for beta in sequence\n",
    "    \"\"\"\n",
    "    def log_likelihood(params):\n",
    "        \"\"\"\n",
    "        This function is to calculate the log likelihood function\n",
    "\n",
    "        Parameters:\n",
    "        params: an array of 4 by 1 array with coefficients for beta in sequence\n",
    "\n",
    "        Result:\n",
    "        Return negative likelihood value\n",
    "        \"\"\"\n",
    "        beta0, beta1, beta2, beta3 = params\n",
    "        epsilon = y - beta0 - beta1*X[:,0] - beta2*X[:,1] - beta3*X[:,2]\n",
    "        log_likelihood = -0.5 * np.sum(np.log(2*np.pi) + np.log(1) + 1*(epsilon)**2)\n",
    "        return -log_likelihood\n",
    "    \n",
    "    result = sp.optimize.minimize(log_likelihood, np.zeros(4), method='Nelder-Mead')\n",
    "    return result.x.reshape(4, 1)\n",
    "y, X = simulate_data(481)\n",
    "print(estimate_mle(y, X))\n"
   ]
  },
  {
   "cell_type": "code",
   "execution_count": 45,
   "id": "33090ab1-7bef-4bc6-8ee8-af80d8f26b5c",
   "metadata": {},
   "outputs": [
    {
     "name": "stdout",
     "output_type": "stream",
     "text": [
      "[[4.97696956]\n",
      " [2.00142312]\n",
      " [2.03563806]\n",
      " [5.98866527]]\n"
     ]
    }
   ],
   "source": [
    "# Ecercise 3\n",
    "import numpy as np\n",
    "\n",
    "def estimate_ols(y: np.array, X: np.array) -> np.array:\n",
    "    \"\"\"\n",
    "    This function is to estimate OLS coefficients using the closed-form solution.\n",
    "\n",
    "    Parameters:\n",
    "    y (array): Response variables\n",
    "    x (array): Predictors.\n",
    "\n",
    "    Returns:\n",
    "    Return a 4 by 1 array with coefficients for beta in sequence\n",
    "    \"\"\"\n",
    "    X_int = np.concatenate([np.ones(X.shape[0]).reshape(-1,1), X,], axis=1)\n",
    "    beta_hat_int = np.linalg.inv(X_int.T @ X_int) @ X_int.T @ y\n",
    "    \n",
    "    return beta_hat_int\n",
    "\n",
    "y, X = simulate_data(481)\n",
    "print(estimate_ols(y, X))\n"
   ]
  }
 ],
 "metadata": {
  "kernelspec": {
   "display_name": "Python 3 (ipykernel)",
   "language": "python",
   "name": "python3"
  },
  "language_info": {
   "codemirror_mode": {
    "name": "ipython",
    "version": 3
   },
   "file_extension": ".py",
   "mimetype": "text/x-python",
   "name": "python",
   "nbconvert_exporter": "python",
   "pygments_lexer": "ipython3",
   "version": "3.10.13"
  }
 },
 "nbformat": 4,
 "nbformat_minor": 5
}
