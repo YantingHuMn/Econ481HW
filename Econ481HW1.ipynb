{
 "cells": [
  {
   "cell_type": "code",
   "execution_count": null,
   "id": "7f87ee1d-ce1b-4604-aa6d-d4cfb9e1e294",
   "metadata": {},
   "outputs": [],
   "source": [
    "# Exercise 0\n",
    "def github() -> str:\n",
    "    \"\"\"\n",
    "    This is my HW1 (the link to github)\n",
    "    \"\"\"\n",
    "    return \"https://github.com/YantingHuMn/Econ481HW/blob/main/Econ481HW1.ipynb\""
   ]
  },
  {
   "cell_type": "code",
   "execution_count": 3,
   "id": "0ce54d52-dcad-4a45-bb20-d821ca251a68",
   "metadata": {},
   "outputs": [],
   "source": [
    "# Exericise 1\n",
    "#import numpy\n",
    "#import pandas\n",
    "#import scipy\n",
    "#import matplotlib\n",
    "#import seaborn"
   ]
  },
  {
   "cell_type": "code",
   "execution_count": 19,
   "id": "cb88c50e-ca41-4309-a7f8-ea31ce18898e",
   "metadata": {},
   "outputs": [
    {
     "name": "stdout",
     "output_type": "stream",
     "text": [
      "{'evens': 2, 'odds': 4}\n"
     ]
    }
   ],
   "source": [
    "# Exercise 2\n",
    "def evens_and_odds(n: int) -> dict:\n",
    "    \"\"\"\n",
    "    This function is to calculate the sum of even and odd natural numbers less than n.\n",
    "\n",
    "    Parameters: \n",
    "    n (int): the upper limit of natural number\n",
    "\n",
    "    Result:\n",
    "    Return a dictionary with two keys that contain the sum of even and odd numbers.\n",
    "    \"\"\"\n",
    "    even = 0\n",
    "    odd = 0\n",
    "    for i in range(1, n):\n",
    "        if i%2 == 1 :\n",
    "            odd += i\n",
    "        else:\n",
    "            even += i\n",
    "    return {'evens': even, 'odds': odd}\n",
    "result = evens_and_odds(4)\n",
    "print(result)"
   ]
  },
  {
   "cell_type": "code",
   "execution_count": 1,
   "id": "aaa4ca2d-bb41-4da3-9c09-ba03f9610819",
   "metadata": {},
   "outputs": [
    {
     "name": "stdout",
     "output_type": "stream",
     "text": [
      "1\n",
      "There are 2 days between the two dates\n"
     ]
    }
   ],
   "source": [
    "# Exercise 3\n",
    "from typing import Union\n",
    "# pip install datetime\n",
    "from datetime import datetime, date, time, timedelta\n",
    "\n",
    "def time_diff(date_1: str, date_2: str, out: str) -> Union[str,float]:\n",
    "    \"\"\"\n",
    "    This function used to calculate the difference in days between two dates.\n",
    "\n",
    "    Parameters:\n",
    "    date_1 (str): The first date in the format 'YYYY-MM-DD'\n",
    "    date_2 (str): The second date in the format 'YYYY-MM-DD'\n",
    "    out (str): The desired output type\n",
    "\n",
    "    Result:\n",
    "    Return a union[str,float] that represents the difference in days as either a string or a float\n",
    "    \"\"\"\n",
    "    \n",
    "    dt1 = datetime.strptime(date_1, \"%Y-%m-%d\")\n",
    "    dt2 = datetime.strptime(date_2, \"%Y-%m-%d\")\n",
    "    delta = abs(dt2 - dt1).days\n",
    "    if out == 'float':\n",
    "        return delta # The example output is int, therefore, I use integer instead of float in this case. I understand\n",
    "                     # I need to use float if I am not sure about the output style.\n",
    "    elif out == 'string':\n",
    "        return \"There are {} days between the two dates\".format(delta)\n",
    "                \n",
    "result3_1 = time_diff('2020-01-01', '2020-01-02', 'float') # return 1\n",
    "print(result3_1)\n",
    "result3_2 = time_diff('2020-01-03', '2020-01-01', 'string') # return \"There are  2  days between the two dates\"\n",
    "print(result3_2)"
   ]
  },
  {
   "cell_type": "code",
   "execution_count": 24,
   "id": "f2bc7537-3c36-45eb-94cb-0c38f1438219",
   "metadata": {},
   "outputs": [
    {
     "name": "stdout",
     "output_type": "stream",
     "text": [
      "['c', 'b', 'a']\n"
     ]
    }
   ],
   "source": [
    "# Exercise 4\n",
    "def reverse(in_list: list) -> list:\n",
    "    \"\"\"\n",
    "    This function used to return a list with elements' sequence reversed.\n",
    "\n",
    "    Parameters:\n",
    "    in_list (list): The input given list.\n",
    "\n",
    "    Result:\n",
    "    Return a list that is reversed in sequence based on input.\n",
    "    \"\"\"\n",
    "    my_new_list = []\n",
    "    length = len(in_list)\n",
    "    i = length -1\n",
    "    while i >= 0:\n",
    "        my_new_list.append(in_list[i])\n",
    "        i -= 1\n",
    "    return my_new_list\n",
    "    \n",
    "result4 = reverse(['a', 'b', 'c'])\n",
    "print(result4)"
   ]
  },
  {
   "cell_type": "code",
   "execution_count": 26,
   "id": "0f3c26ce-77c3-456d-9272-352cf1aa05ba",
   "metadata": {},
   "outputs": [
    {
     "name": "stdout",
     "output_type": "stream",
     "text": [
      "0.5\n"
     ]
    }
   ],
   "source": [
    "# Exercise 5\n",
    "def prob_k_heads(n: int, k: int) -> float:\n",
    "    \"\"\"\n",
    "    This function used to calculate the probability of getting k heads from n flips.\n",
    "\n",
    "    Parameters:\n",
    "    n (int): The total number of flips\n",
    "    k (int): The number of heads.\n",
    "\n",
    "    Result:\n",
    "    Return a float that represents the probability of getting k heads from n flips\n",
    "    \"\"\"\n",
    "    n_fac = 1\n",
    "    for i in range(1,n+1):\n",
    "        n_fac *= i\n",
    "    n_fac\n",
    "    k_fac = 1\n",
    "    for i in range(1, k+1):\n",
    "        k_fac *= i\n",
    "    k_fac\n",
    "    n_k_fac = 1\n",
    "    for i in range(1, n-k+1):\n",
    "        n_k_fac *= i\n",
    "    n_k_fac\n",
    "    binom = n_fac/(n_k_fac * n_k_fac)\n",
    "    coef = binom * 0.5**k * 0.5**(n-k)\n",
    "    return float(coef)\n",
    "    \n",
    "result5 = prob_k_heads(1,1)\n",
    "print(result5)"
   ]
  }
 ],
 "metadata": {
  "kernelspec": {
   "display_name": "Python 3 (ipykernel)",
   "language": "python",
   "name": "python3"
  },
  "language_info": {
   "codemirror_mode": {
    "name": "ipython",
    "version": 3
   },
   "file_extension": ".py",
   "mimetype": "text/x-python",
   "name": "python",
   "nbconvert_exporter": "python",
   "pygments_lexer": "ipython3",
   "version": "3.10.13"
  }
 },
 "nbformat": 4,
 "nbformat_minor": 5
}
