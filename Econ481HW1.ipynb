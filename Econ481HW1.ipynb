{
 "cells": [
  {
   "cell_type": "code",
   "execution_count": null,
   "id": "7f87ee1d-ce1b-4604-aa6d-d4cfb9e1e294",
   "metadata": {},
   "outputs": [],
   "source": [
    "# Exercise 0 \n",
    "def github() -> str:\n",
    "    \"\"\"\n",
    "    This is my HW1\n",
    "    \"\"\"\n",
    "    #return \"https://github.com/YantingHuMn/Econ481HW.git\"\n",
    "    return \"https://github.com/<user>/<repo>/blob/main/<filename.py>\""
   ]
  },
  {
   "cell_type": "code",
   "execution_count": 3,
   "id": "0ce54d52-dcad-4a45-bb20-d821ca251a68",
   "metadata": {},
   "outputs": [],
   "source": [
    "# Exericise 1\n",
    "import numpy\n",
    "import pandas\n",
    "import scipy\n",
    "import matplotlib\n",
    "import seaborn"
   ]
  },
  {
   "cell_type": "code",
   "execution_count": 12,
   "id": "cb88c50e-ca41-4309-a7f8-ea31ce18898e",
   "metadata": {},
   "outputs": [
    {
     "name": "stdout",
     "output_type": "stream",
     "text": [
      "'evens:' 2 'odds:' 4\n"
     ]
    }
   ],
   "source": [
    "# Exercise 2\n",
    "def evens_and_odds(n: int) -> dict:\n",
    "    \"\"\"\n",
    "    Some docstrings.\n",
    "    \"\"\"\n",
    "    even = 0\n",
    "    odd = 0\n",
    "    for i in range(1, n):\n",
    "        if i%2 == 1 :\n",
    "            odd += i\n",
    "        else:\n",
    "            even += i\n",
    "    return print(\"'evens:'\", even, \"'odds:'\", odd)\n",
    "\n",
    "evens_and_odds(4)"
   ]
  },
  {
   "cell_type": "code",
   "execution_count": 21,
   "id": "3ab77e34-e5ed-4953-98fa-822d487bb711",
   "metadata": {},
   "outputs": [],
   "source": [
    "# pip install datetime\n",
    "from datetime import datetime, date, time, timedelta"
   ]
  },
  {
   "cell_type": "code",
   "execution_count": 69,
   "id": "aaa4ca2d-bb41-4da3-9c09-ba03f9610819",
   "metadata": {},
   "outputs": [],
   "source": [
    "# Exercise 3\n",
    "from typing import Union\n",
    "\n",
    "def time_diff(date_1: str, date_2: str, out: str) -> Union[str,float]:\n",
    "    \"\"\"\n",
    "    Some docstrings.\n",
    "    \"\"\"\n",
    "    \n",
    "    dt1 = datetime.strptime(date_1, \"%Y-%m-%d\")\n",
    "    dt2 = datetime.strptime(date_2, \"%Y-%m-%d\")\n",
    "    delta = abs(dt2 - dt1).days\n",
    "    if out == 'float':\n",
    "        return delta\n",
    "    elif out == 'string':\n",
    "        return print(\"\\\"There are \", delta, \" days between the two dates\\\"\")\n",
    "        \n",
    "#time_diff('2020-01-01', '2020-01-02', 'float') # return 1\n",
    "#time_diff('2020-01-03', '2020-01-01', 'string') # return \"There are  2  days between the two dates\""
   ]
  },
  {
   "cell_type": "code",
   "execution_count": 91,
   "id": "f2bc7537-3c36-45eb-94cb-0c38f1438219",
   "metadata": {},
   "outputs": [
    {
     "data": {
      "text/plain": [
       "['c', 'b', 'a']"
      ]
     },
     "execution_count": 91,
     "metadata": {},
     "output_type": "execute_result"
    }
   ],
   "source": [
    "# Exercise 4\n",
    "def reverse(in_list: list) -> list:\n",
    "    \"\"\"\n",
    "    Some docstrings.\n",
    "    \"\"\"\n",
    "    my_new_list = []\n",
    "    length = len(in_list)\n",
    "    i = length -1\n",
    "    while i >= 0:\n",
    "        my_new_list.append(in_list[i])\n",
    "        i -= 1\n",
    "    return my_new_list\n",
    "reverse(['a', 'b', 'c'])"
   ]
  },
  {
   "cell_type": "code",
   "execution_count": 93,
   "id": "0f3c26ce-77c3-456d-9272-352cf1aa05ba",
   "metadata": {},
   "outputs": [
    {
     "data": {
      "text/plain": [
       "0.5"
      ]
     },
     "execution_count": 93,
     "metadata": {},
     "output_type": "execute_result"
    }
   ],
   "source": [
    "# Exercise 5\n",
    "def prob_k_heads(n: int, k: int) -> float:\n",
    "    \"\"\"\n",
    "    Some docstrings.\n",
    "    \"\"\"\n",
    "    n_fac = 1\n",
    "    for i in range(1,n+1):\n",
    "        n_fac *= i\n",
    "    n_fac\n",
    "    k_fac = 1\n",
    "    for i in range(1, k+1):\n",
    "        k_fac *= i\n",
    "    k_fac\n",
    "    n_k_fac = 1\n",
    "    for i in range(1, n-k+1):\n",
    "        n_k_fac *= i\n",
    "    n_k_fac\n",
    "    binom = n_fac/(n_k_fac * n_k_fac)\n",
    "    coef = binom * 0.5**k * 0.5**(n-k)\n",
    "    return coef\n",
    "prob_k_heads(1,1)"
   ]
  }
 ],
 "metadata": {
  "kernelspec": {
   "display_name": "Python 3 (ipykernel)",
   "language": "python",
   "name": "python3"
  },
  "language_info": {
   "codemirror_mode": {
    "name": "ipython",
    "version": 3
   },
   "file_extension": ".py",
   "mimetype": "text/x-python",
   "name": "python",
   "nbconvert_exporter": "python",
   "pygments_lexer": "ipython3",
   "version": "3.10.13"
  }
 },
 "nbformat": 4,
 "nbformat_minor": 5
}
